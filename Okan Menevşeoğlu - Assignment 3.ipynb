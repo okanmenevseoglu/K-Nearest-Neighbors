{
 "cells": [
  {
   "cell_type": "markdown",
   "metadata": {},
   "source": [
    "## Problem:\n",
    "Implement the k nearest neighbor algorithm and measure the accuracy as well as precision and recall for the classification of iris type 2 versus 1,3.\n",
    "\n",
    "Submit a jupyter notebook.\n",
    "\n",
    "## Solution:"
   ]
  },
  {
   "cell_type": "code",
   "execution_count": 1,
   "metadata": {
    "collapsed": true
   },
   "outputs": [],
   "source": [
    "# Necessary imports\n",
    "import numpy as np\n",
    "import pandas as pd\n",
    "import heapq as hp\n",
    "\n",
    "# Iris dataset\n",
    "iris = pd.read_csv(\"data/iris.txt\", sep=\" \")"
   ]
  },
  {
   "cell_type": "code",
   "execution_count": 2,
   "metadata": {
    "collapsed": false
   },
   "outputs": [],
   "source": [
    "# Define A matrix with the features from the iris dataset\n",
    "sepal_length = np.vstack(iris.sl)\n",
    "sepal_width = np.vstack(iris.sw)\n",
    "petal_length = np.vstack(iris.pl)\n",
    "petal_width = np.vstack(iris.pw)\n",
    "A = np.hstack((sepal_length, sepal_width, petal_length, petal_width))\n",
    "\n",
    "# Define c matrix with the classes from the iris dataset\n",
    "c = np.matrix(iris.c).T"
   ]
  },
  {
   "cell_type": "code",
   "execution_count": 3,
   "metadata": {
    "collapsed": true
   },
   "outputs": [],
   "source": [
    "# Define an object and overload custom comparison operators\n",
    "class tup:\n",
    "    def __init__(self, val, idx):\n",
    "        self.val = val\n",
    "        self.idx = idx\n",
    "        \n",
    "    def __lt__(self, other):\n",
    "        '''Redefine for max-heap'''\n",
    "        return self.val > other.val\n",
    "    \n",
    "    def __le__(self, other):\n",
    "        return self.val <= other.val\n",
    " \n",
    "    def __eq__(self, other):\n",
    "        return self.val == other.val\n",
    "    \n",
    "    def __ne__(self, other):\n",
    "        return self.val != other.val\n",
    "\n",
    "    def __gt__(self, other):\n",
    "        return self.val > other.val\n",
    "\n",
    "    def __ge__(self, other):\n",
    "        return self.val >= other.val\n",
    "\n",
    "    def __str__(self):\n",
    "        return '{:.3},{:d}'.format(self.val, self.idx)"
   ]
  },
  {
   "cell_type": "code",
   "execution_count": 4,
   "metadata": {
    "collapsed": false
   },
   "outputs": [],
   "source": [
    "# Define K Nearest Neighbor function\n",
    "def kNearestNeighbor(K, A, test, classes):\n",
    "    heap = []\n",
    "    N = A.shape[0]\n",
    "    \n",
    "    # Fill in the heap with dummy nodes\n",
    "    for k in range(K):\n",
    "        hp.heappush(heap, tup(np.inf, -1))\n",
    "\n",
    "    for i in range(N):\n",
    "        e = A[i,:] - test\n",
    "        e = e.reshape((4, 1))\n",
    "        tp = tup(float(np.dot(e.T, e)), i)\n",
    "        if tp <= heap[0]:\n",
    "            hp.heapreplace(heap, tp)\n",
    "    \n",
    "    # Find maximum occurence\n",
    "    categories = []\n",
    "    for j in range(len(heap)):\n",
    "        h = hp.heappop(heap)\n",
    "        categories.append(int(classes[h.idx]))\n",
    "    return max(set(categories), key=categories.count)"
   ]
  },
  {
   "cell_type": "code",
   "execution_count": 5,
   "metadata": {
    "collapsed": false
   },
   "outputs": [],
   "source": [
    "# Define method to find precision, recall and accuracy for the given category\n",
    "def predictCondition(k, A, category):\n",
    "    \n",
    "    N = A.shape[0]\n",
    "    false_positive = 0\n",
    "    false_negative = 0\n",
    "    true_positive = 0\n",
    "    true_negative = 0\n",
    "    \n",
    "    \n",
    "    for i in range(N):\n",
    "        result = kNearestNeighbor(k, A, A[i,:], c);\n",
    "        if(result == int(c[i]) and int(c[i]) == category):\n",
    "            true_positive += 1\n",
    "        if(result == int(c[i]) and int(c[i]) != category):\n",
    "            true_negative += 1\n",
    "        if(result != int(c[i]) and int(c[i]) == category):\n",
    "            false_negative += 1\n",
    "        if(result != int(c[i]) and result == category):\n",
    "            false_positive += 1\n",
    "            \n",
    "    precision = true_positive / (true_positive + false_positive) * 100\n",
    "    recall = true_positive / (true_positive + false_negative) * 100\n",
    "    accuracy = (true_positive + true_negative) / (true_positive + true_negative + false_positive + false_negative) * 100\n",
    "        \n",
    "    return (true_positive, true_negative, false_positive, false_negative, precision, recall, accuracy)"
   ]
  },
  {
   "cell_type": "code",
   "execution_count": 6,
   "metadata": {
    "collapsed": true
   },
   "outputs": [],
   "source": [
    "# Define k\n",
    "k = 7"
   ]
  },
  {
   "cell_type": "code",
   "execution_count": 7,
   "metadata": {
    "collapsed": false
   },
   "outputs": [
    {
     "name": "stdout",
     "output_type": "stream",
     "text": [
      "== Results For Category 1 ==\n",
      "Precision: % 100.0\n",
      "Recall: % 100.0\n",
      "Accuracy: % 100.0\n"
     ]
    }
   ],
   "source": [
    "# Calculate and print results for the category 1\n",
    "category = 1\n",
    "true_positive, true_negative, false_positive, false_negative, precision, recall, accuracy = predictCondition(k, A, category)\n",
    "print(\"== Results For Category\",category, \"==\")\n",
    "print(\"Precision: %\", precision)\n",
    "print(\"Recall: %\", recall)\n",
    "print(\"Accuracy: %\", accuracy)"
   ]
  },
  {
   "cell_type": "code",
   "execution_count": 8,
   "metadata": {
    "collapsed": false
   },
   "outputs": [
    {
     "name": "stdout",
     "output_type": "stream",
     "text": [
      "== Results For Category 2 ==\n",
      "Precision: % 97.91666666666666\n",
      "Recall: % 94.0\n",
      "Accuracy: % 97.33333333333334\n"
     ]
    }
   ],
   "source": [
    "# Calculate and print results for the category 2\n",
    "category = 2\n",
    "true_positive, true_negative, false_positive, false_negative, precision, recall, accuracy = predictCondition(k, A, category)\n",
    "print(\"== Results For Category\",category, \"==\")\n",
    "print(\"Precision: %\", precision)\n",
    "print(\"Recall: %\", recall)\n",
    "print(\"Accuracy: %\", accuracy)"
   ]
  },
  {
   "cell_type": "code",
   "execution_count": 9,
   "metadata": {
    "collapsed": false
   },
   "outputs": [
    {
     "name": "stdout",
     "output_type": "stream",
     "text": [
      "== Results For Category 3 ==\n",
      "Precision: % 94.23076923076923\n",
      "Recall: % 98.0\n",
      "Accuracy: % 97.33333333333334\n"
     ]
    }
   ],
   "source": [
    "# Calculate and print results for the category 3\n",
    "category = 3\n",
    "true_positive, true_negative, false_positive, false_negative, precision, recall, accuracy = predictCondition(k, A, category)\n",
    "print(\"== Results For Category\",category, \"==\")\n",
    "print(\"Precision: %\", precision)\n",
    "print(\"Recall: %\", recall)\n",
    "print(\"Accuracy: %\", accuracy)"
   ]
  }
 ],
 "metadata": {
  "kernelspec": {
   "display_name": "Python 3",
   "language": "python",
   "name": "python3"
  },
  "language_info": {
   "codemirror_mode": {
    "name": "ipython",
    "version": 3
   },
   "file_extension": ".py",
   "mimetype": "text/x-python",
   "name": "python",
   "nbconvert_exporter": "python",
   "pygments_lexer": "ipython3",
   "version": "3.5.1"
  }
 },
 "nbformat": 4,
 "nbformat_minor": 0
}
